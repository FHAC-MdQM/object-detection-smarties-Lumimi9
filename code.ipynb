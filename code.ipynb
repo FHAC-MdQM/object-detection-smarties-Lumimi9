{
 "cells": [
  {
   "cell_type": "code",
   "execution_count": 10,
   "id": "24c5a171",
   "metadata": {},
   "outputs": [
    {
     "name": "stdout",
     "output_type": "stream",
     "text": [
      "Number of round objects of the given color: 17\n"
     ]
    }
   ],
   "source": [
    "import cv2\n",
    "import numpy as np\n",
    "\n",
    "# set color range for object detection\n",
    "lower_color_range = np.array([0, 100, 100])\n",
    "upper_color_range = np.array([10, 255, 255])\n",
    "\n",
    "# read image from file or capture device\n",
    "img = cv2.imread(\"table.jpg\")\n",
    "\n",
    "# convert image to HSV color space\n",
    "hsv = cv2.cvtColor(img, cv2.COLOR_BGR2HSV)\n",
    "\n",
    "# apply color range mask to extract objects\n",
    "mask = cv2.inRange(hsv, lower_color_range, upper_color_range)\n",
    "\n",
    "# apply morphological operations to reduce noise\n",
    "kernel = np.ones((5,5),np.uint8)\n",
    "mask = cv2.morphologyEx(mask, cv2.MORPH_OPEN, kernel)\n",
    "mask = cv2.morphologyEx(mask, cv2.MORPH_CLOSE, kernel)\n",
    "\n",
    "# find contours of objects\n",
    "contours, hierarchy = cv2.findContours(mask, cv2.RETR_EXTERNAL, cv2.CHAIN_APPROX_SIMPLE)\n",
    "\n",
    "# count round objects\n",
    "round_objects_count = 0\n",
    "for cnt in contours:\n",
    "    # calculate object properties\n",
    "    area = cv2.contourArea(cnt)\n",
    "    perimeter = cv2.arcLength(cnt, True)\n",
    "    circularity = 4 * np.pi * area / (perimeter ** 2)\n",
    "    # check if object is round enough and count it\n",
    "    # if circularity > 0:\n",
    "    #    round_objects_count += 1\n",
    "    round_objects_countt += 1\n",
    "    \n",
    "# print round objects count\n",
    "print(\"Number of round objects of the given color:\", round_objects_count)\n",
    "\n",
    "# show image with detected objects\n",
    "cv2.imshow(\"Detected Objects\", img)\n",
    "cv2.waitKey(0)\n",
    "cv2.destroyAllWindows()"
   ]
  },
  {
   "cell_type": "code",
   "execution_count": null,
   "id": "f632962a",
   "metadata": {},
   "outputs": [],
   "source": []
  },
  {
   "cell_type": "code",
   "execution_count": null,
   "id": "b7f21e85",
   "metadata": {},
   "outputs": [],
   "source": []
  },
  {
   "cell_type": "code",
   "execution_count": null,
   "id": "fd066ed9",
   "metadata": {},
   "outputs": [],
   "source": []
  }
 ],
 "metadata": {
  "kernelspec": {
   "display_name": "Python 3 (ipykernel)",
   "language": "python",
   "name": "python3"
  },
  "language_info": {
   "codemirror_mode": {
    "name": "ipython",
    "version": 3
   },
   "file_extension": ".py",
   "mimetype": "text/x-python",
   "name": "python",
   "nbconvert_exporter": "python",
   "pygments_lexer": "ipython3",
   "version": "3.9.12"
  }
 },
 "nbformat": 4,
 "nbformat_minor": 5
}
